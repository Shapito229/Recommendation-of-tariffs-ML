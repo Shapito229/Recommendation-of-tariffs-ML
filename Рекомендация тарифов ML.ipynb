{
 "cells": [
  {
   "cell_type": "markdown",
   "metadata": {},
   "source": [
    "# Рекомендация тарифов"
   ]
  },
  {
   "cell_type": "markdown",
   "metadata": {},
   "source": [
    "В вашем распоряжении данные о поведении клиентов, которые уже перешли на эти тарифы (из проекта курса «Статистический анализ данных»). Нужно построить модель для задачи классификации, которая выберет подходящий тариф. Предобработка данных не понадобится — вы её уже сделали.\n",
    "\n",
    "Постройте модель с максимально большим значением *accuracy*. Чтобы сдать проект успешно, нужно довести долю правильных ответов по крайней мере до 0.75. Проверьте *accuracy* на тестовой выборке самостоятельно."
   ]
  },
  {
   "cell_type": "markdown",
   "metadata": {},
   "source": [
    "## Откройте и изучите файл"
   ]
  },
  {
   "cell_type": "code",
   "execution_count": 1,
   "metadata": {},
   "outputs": [],
   "source": [
    "#прописываем нужные нам библиотеки \n",
    "import pandas as pd\n",
    "import math\n",
    "import numpy as np\n",
    "from scipy import stats as st\n",
    "from sklearn.model_selection import train_test_split\n",
    "from sklearn.tree import DecisionTreeClassifier\n",
    "from sklearn.metrics import accuracy_score\n",
    "from sklearn.metrics import mean_squared_error\n",
    "from sklearn.ensemble import RandomForestClassifier\n",
    "from sklearn.linear_model import LogisticRegression\n",
    "from sklearn.ensemble import RandomForestRegressor\n",
    "from sklearn.linear_model import LinearRegression\n"
   ]
  },
  {
   "cell_type": "code",
   "execution_count": 2,
   "metadata": {},
   "outputs": [],
   "source": [
    "df = pd.read_csv('/datasets/users_behavior.csv')"
   ]
  },
  {
   "cell_type": "code",
   "execution_count": 3,
   "metadata": {},
   "outputs": [
    {
     "data": {
      "text/html": [
       "<div>\n",
       "<style scoped>\n",
       "    .dataframe tbody tr th:only-of-type {\n",
       "        vertical-align: middle;\n",
       "    }\n",
       "\n",
       "    .dataframe tbody tr th {\n",
       "        vertical-align: top;\n",
       "    }\n",
       "\n",
       "    .dataframe thead th {\n",
       "        text-align: right;\n",
       "    }\n",
       "</style>\n",
       "<table border=\"1\" class=\"dataframe\">\n",
       "  <thead>\n",
       "    <tr style=\"text-align: right;\">\n",
       "      <th></th>\n",
       "      <th>calls</th>\n",
       "      <th>minutes</th>\n",
       "      <th>messages</th>\n",
       "      <th>mb_used</th>\n",
       "      <th>is_ultra</th>\n",
       "    </tr>\n",
       "  </thead>\n",
       "  <tbody>\n",
       "    <tr>\n",
       "      <td>0</td>\n",
       "      <td>40.0</td>\n",
       "      <td>311.90</td>\n",
       "      <td>83.0</td>\n",
       "      <td>19915.42</td>\n",
       "      <td>0</td>\n",
       "    </tr>\n",
       "    <tr>\n",
       "      <td>1</td>\n",
       "      <td>85.0</td>\n",
       "      <td>516.75</td>\n",
       "      <td>56.0</td>\n",
       "      <td>22696.96</td>\n",
       "      <td>0</td>\n",
       "    </tr>\n",
       "    <tr>\n",
       "      <td>2</td>\n",
       "      <td>77.0</td>\n",
       "      <td>467.66</td>\n",
       "      <td>86.0</td>\n",
       "      <td>21060.45</td>\n",
       "      <td>0</td>\n",
       "    </tr>\n",
       "    <tr>\n",
       "      <td>3</td>\n",
       "      <td>106.0</td>\n",
       "      <td>745.53</td>\n",
       "      <td>81.0</td>\n",
       "      <td>8437.39</td>\n",
       "      <td>1</td>\n",
       "    </tr>\n",
       "    <tr>\n",
       "      <td>4</td>\n",
       "      <td>66.0</td>\n",
       "      <td>418.74</td>\n",
       "      <td>1.0</td>\n",
       "      <td>14502.75</td>\n",
       "      <td>0</td>\n",
       "    </tr>\n",
       "  </tbody>\n",
       "</table>\n",
       "</div>"
      ],
      "text/plain": [
       "   calls  minutes  messages   mb_used  is_ultra\n",
       "0   40.0   311.90      83.0  19915.42         0\n",
       "1   85.0   516.75      56.0  22696.96         0\n",
       "2   77.0   467.66      86.0  21060.45         0\n",
       "3  106.0   745.53      81.0   8437.39         1\n",
       "4   66.0   418.74       1.0  14502.75         0"
      ]
     },
     "execution_count": 3,
     "metadata": {},
     "output_type": "execute_result"
    }
   ],
   "source": [
    "df.head()"
   ]
  },
  {
   "cell_type": "code",
   "execution_count": 4,
   "metadata": {},
   "outputs": [
    {
     "name": "stdout",
     "output_type": "stream",
     "text": [
      "**Общая информация датафрейма**\n",
      "<class 'pandas.core.frame.DataFrame'>\n",
      "RangeIndex: 3214 entries, 0 to 3213\n",
      "Data columns (total 5 columns):\n",
      "calls       3214 non-null float64\n",
      "minutes     3214 non-null float64\n",
      "messages    3214 non-null float64\n",
      "mb_used     3214 non-null float64\n",
      "is_ultra    3214 non-null int64\n",
      "dtypes: float64(4), int64(1)\n",
      "memory usage: 125.7 KB\n",
      "None\n",
      "-------------------------------------------------------------------------------------------------------------\n",
      "**Просмотр статистических данных**\n",
      "             calls      minutes     messages       mb_used     is_ultra\n",
      "count  3214.000000  3214.000000  3214.000000   3214.000000  3214.000000\n",
      "mean     63.038892   438.208787    38.281269  17207.673836     0.306472\n",
      "std      33.236368   234.569872    36.148326   7570.968246     0.461100\n",
      "min       0.000000     0.000000     0.000000      0.000000     0.000000\n",
      "25%      40.000000   274.575000     9.000000  12491.902500     0.000000\n",
      "50%      62.000000   430.600000    30.000000  16943.235000     0.000000\n",
      "75%      82.000000   571.927500    57.000000  21424.700000     1.000000\n",
      "max     244.000000  1632.060000   224.000000  49745.730000     1.000000\n",
      "-------------------------------------------------------------------------------------------------------------\n",
      "**Вывод рандомных строк датафрейма**\n",
      "      calls  minutes  messages   mb_used  is_ultra\n",
      "1719   62.0   545.53       3.0   4942.50         0\n",
      "2922   74.0   498.09      97.0  16471.48         0\n",
      "1895   93.0   630.74      54.0  13246.51         0\n",
      "-------------------------------------------------------------------------------------------------------------\n",
      "**Вывод первых пяти строк датафрейма**\n",
      "   calls  minutes  messages   mb_used  is_ultra\n",
      "0   40.0   311.90      83.0  19915.42         0\n",
      "1   85.0   516.75      56.0  22696.96         0\n",
      "2   77.0   467.66      86.0  21060.45         0\n",
      "3  106.0   745.53      81.0   8437.39         1\n",
      "4   66.0   418.74       1.0  14502.75         0\n",
      "-------------------------------------------------------------------------------------------------------------\n",
      "**Вывод количесва дубликатов датафрейма**\n",
      "0\n",
      "-------------------------------------------------------------------------------------------------------------\n",
      "**Вывод количесва пропущеных значений датафрейма**\n",
      "calls       0\n",
      "minutes     0\n",
      "messages    0\n",
      "mb_used     0\n",
      "is_ultra    0\n",
      "dtype: int64\n",
      "-------------------------------------------------------------------------------------------------------------\n",
      "None\n"
     ]
    }
   ],
   "source": [
    "def fun_date(data):\n",
    "    print('**Общая информация датафрейма**')\n",
    "    print(data.info())\n",
    "    print('-------------------------------------------------------------------------------------------------------------')\n",
    "    print('**Просмотр статистических данных**')\n",
    "    print(data.describe())\n",
    "    print('-------------------------------------------------------------------------------------------------------------')\n",
    "    print('**Вывод рандомных строк датафрейма**')\n",
    "    print(data.sample(n=3, random_state=1))\n",
    "    print('-------------------------------------------------------------------------------------------------------------')\n",
    "    print('**Вывод первых пяти строк датафрейма**')\n",
    "    print(data.head())\n",
    "    print('-------------------------------------------------------------------------------------------------------------')\n",
    "    print('**Вывод количесва дубликатов датафрейма**')\n",
    "    print(data.duplicated().sum())\n",
    "    print('-------------------------------------------------------------------------------------------------------------')\n",
    "    print('**Вывод количесва пропущеных значений датафрейма**')\n",
    "    print(data.isnull().sum())\n",
    "    print('-------------------------------------------------------------------------------------------------------------')\n",
    "print(fun_date(df))"
   ]
  },
  {
   "cell_type": "markdown",
   "metadata": {},
   "source": [
    "Все данные в порядке, можем работать!"
   ]
  },
  {
   "cell_type": "markdown",
   "metadata": {},
   "source": [
    "## Разбейте данные на выборки"
   ]
  },
  {
   "cell_type": "code",
   "execution_count": 5,
   "metadata": {},
   "outputs": [
    {
     "name": "stdout",
     "output_type": "stream",
     "text": [
      "Обучающая выборка: (1928, 3)\n",
      "(1928,)\n",
      "Валидационная выборка: (643, 3)\n",
      "(643,)\n",
      "Тестовая выборка: (643, 3)\n",
      "(643,)\n"
     ]
    }
   ],
   "source": [
    "features = df.drop(['is_ultra', 'minutes'], axis =1)\n",
    "target = df['is_ultra']\n",
    "\n",
    "\n",
    "features_train, features_test, target_train, target_test = train_test_split(features, target, test_size=0.4, random_state=12345)\n",
    "features_test, features_valid, target_test, target_valid = train_test_split(features_test, target_test, test_size=0.5, random_state=12345)\n",
    "\n",
    "print('Обучающая выборка:',features_train.shape)\n",
    "print(target_train.shape)\n",
    "print('Валидационная выборка:',features_valid.shape)\n",
    "print(target_valid.shape)\n",
    "print('Тестовая выборка:',features_test.shape)\n",
    "print(target_test.shape)"
   ]
  },
  {
   "cell_type": "markdown",
   "metadata": {},
   "source": [
    "Разбили нашу выборку в соотношении 3:1:1"
   ]
  },
  {
   "cell_type": "markdown",
   "metadata": {},
   "source": [
    "## Исследуйте модели"
   ]
  },
  {
   "cell_type": "code",
   "execution_count": 6,
   "metadata": {},
   "outputs": [
    {
     "name": "stdout",
     "output_type": "stream",
     "text": [
      "max_depth = 1 : 0.7356143079315708\n",
      "max_depth = 2 : 0.7698289269051322\n",
      "max_depth = 3 : 0.7744945567651633\n",
      "max_depth = 4 : 0.7729393468118196\n",
      "max_depth = 5 : 0.7838258164852255\n"
     ]
    }
   ],
   "source": [
    "#Дерево решений\n",
    "for depth in range(1, 6):\n",
    "    model = DecisionTreeClassifier(max_depth=depth, random_state=12345)\n",
    "    model.fit(features_train, target_train)\n",
    "    predictions_valid = model.predict(features_valid)\n",
    "   \n",
    "    print(\"max_depth =\", depth, \": \", end='')\n",
    "    print(accuracy_score(target_valid, predictions_valid)) "
   ]
  },
  {
   "cell_type": "markdown",
   "metadata": {},
   "source": [
    "Наилочная точность выборки оказалась 0.78, при глубине дерева 5"
   ]
  },
  {
   "cell_type": "code",
   "execution_count": 7,
   "metadata": {},
   "outputs": [
    {
     "name": "stdout",
     "output_type": "stream",
     "text": [
      "Accuracy наилучшей модели на валидационной выборке: 0.7869362363919129\n"
     ]
    }
   ],
   "source": [
    "best_model = None\n",
    "best_result = 0\n",
    "for est in range(1, 11):\n",
    "    model = RandomForestClassifier(random_state=12345, n_estimators=est) \n",
    "    model.fit(features_train,target_train) \n",
    "    result = model.score(features_valid,target_valid) \n",
    "    if result > best_result:\n",
    "        best_model = model \n",
    "        best_result = result \n",
    "\n",
    "print(\"Accuracy наилучшей модели на валидационной выборке:\", best_result)"
   ]
  },
  {
   "cell_type": "code",
   "execution_count": 8,
   "metadata": {},
   "outputs": [
    {
     "name": "stdout",
     "output_type": "stream",
     "text": [
      "Accuracy модели логистической регрессии на валидационной выборке: 0.7402799377916018\n"
     ]
    },
    {
     "name": "stderr",
     "output_type": "stream",
     "text": [
      "/opt/conda/lib/python3.7/site-packages/sklearn/linear_model/logistic.py:432: FutureWarning: Default solver will be changed to 'lbfgs' in 0.22. Specify a solver to silence this warning.\n",
      "  FutureWarning)\n"
     ]
    }
   ],
   "source": [
    "model = LogisticRegression(random_state=12345)# инициализируйте модель логистической регрессии с параметром random_state=12345\n",
    "model.fit(features_train,target_train) # обучите модель на тренировочной выборке\n",
    "result = model.score(features_valid,target_valid) # получите метрику качества модели на валидационной выборке\n",
    "\n",
    "print(\"Accuracy модели логистической регрессии на валидационной выборке:\", result)"
   ]
  },
  {
   "cell_type": "markdown",
   "metadata": {},
   "source": [
    "Пока что можно сделать вывод, что лучше всего себя показывает метод \"дерево решений\""
   ]
  },
  {
   "cell_type": "markdown",
   "metadata": {},
   "source": [
    "## Проверьте модель на тестовой выборке"
   ]
  },
  {
   "cell_type": "code",
   "execution_count": 9,
   "metadata": {},
   "outputs": [
    {
     "name": "stdout",
     "output_type": "stream",
     "text": [
      "0.7900466562986003\n"
     ]
    }
   ],
   "source": [
    "#Дерево решений\n",
    "model_dt=DecisionTreeClassifier(random_state=12345, max_depth=5, min_samples_leaf=1, min_samples_split= 3)\n",
    "model_dt.fit(features_train, target_train)\n",
    "accuracy_dt=model_dt.score(features_test, target_test)\n",
    "print(accuracy_dt)"
   ]
  },
  {
   "cell_type": "code",
   "execution_count": 10,
   "metadata": {},
   "outputs": [
    {
     "name": "stdout",
     "output_type": "stream",
     "text": [
      "0.7791601866251944\n"
     ]
    },
    {
     "name": "stderr",
     "output_type": "stream",
     "text": [
      "/opt/conda/lib/python3.7/site-packages/sklearn/ensemble/forest.py:245: FutureWarning: The default value of n_estimators will change from 10 in version 0.20 to 100 in 0.22.\n",
      "  \"10 in version 0.20 to 100 in 0.22.\", FutureWarning)\n"
     ]
    }
   ],
   "source": [
    "#Случайный лес\n",
    "model_dt=RandomForestClassifier(random_state=12345, max_depth=10, min_samples_leaf=1, min_samples_split= 3)\n",
    "model_dt.fit(features_train, target_train)\n",
    "accuracy_dt=model_dt.score(features_test, target_test)\n",
    "print(accuracy_dt)\n"
   ]
  },
  {
   "cell_type": "code",
   "execution_count": 11,
   "metadata": {},
   "outputs": [
    {
     "name": "stdout",
     "output_type": "stream",
     "text": [
      "0.7511664074650077\n"
     ]
    },
    {
     "name": "stderr",
     "output_type": "stream",
     "text": [
      "/opt/conda/lib/python3.7/site-packages/sklearn/linear_model/logistic.py:432: FutureWarning: Default solver will be changed to 'lbfgs' in 0.22. Specify a solver to silence this warning.\n",
      "  FutureWarning)\n"
     ]
    }
   ],
   "source": [
    "#логическая регрессия\n",
    "model_dt=LogisticRegression(random_state=12345)\n",
    "model_dt.fit(features_train, target_train)\n",
    "accuracy_dt=model_dt.score(features_test, target_test)\n",
    "print(accuracy_dt)"
   ]
  },
  {
   "cell_type": "markdown",
   "metadata": {},
   "source": [
    "Лучше всего себя показал метод \"дерево решений\" с точность 0.79 и высокой скоростью, в отличии от остальных методов."
   ]
  },
  {
   "cell_type": "markdown",
   "metadata": {},
   "source": [
    "## (бонус) Проверьте модели на адекватность"
   ]
  },
  {
   "cell_type": "code",
   "execution_count": 12,
   "metadata": {},
   "outputs": [
    {
     "name": "stdout",
     "output_type": "stream",
     "text": [
      "0.5007776049766719\n"
     ]
    }
   ],
   "source": [
    "a=np.random.randint(0, 2, size=len(target_test))\n",
    "def error_count(answers, predictions):\n",
    "    return ((answers == predictions).sum())/len(answers)\n",
    "print(error_count(a, target_test))"
   ]
  },
  {
   "cell_type": "markdown",
   "metadata": {},
   "source": [
    "Из полученный данных предположу, что модель вполне адекватная"
   ]
  },
  {
   "cell_type": "code",
   "execution_count": null,
   "metadata": {},
   "outputs": [],
   "source": []
  }
 ],
 "metadata": {
  "ExecuteTimeLog": [
   {
    "duration": 1076,
    "start_time": "2021-12-14T13:31:51.066Z"
   },
   {
    "duration": 19,
    "start_time": "2021-12-14T13:31:52.144Z"
   },
   {
    "duration": 15,
    "start_time": "2021-12-14T13:31:52.165Z"
   },
   {
    "duration": 33,
    "start_time": "2021-12-14T13:31:52.182Z"
   },
   {
    "duration": 9,
    "start_time": "2021-12-14T13:31:52.216Z"
   },
   {
    "duration": 48,
    "start_time": "2021-12-14T13:31:52.227Z"
   },
   {
    "duration": 165,
    "start_time": "2021-12-14T13:31:52.277Z"
   },
   {
    "duration": 20,
    "start_time": "2021-12-14T13:31:52.446Z"
   },
   {
    "duration": 10,
    "start_time": "2021-12-14T13:31:52.468Z"
   },
   {
    "duration": 30,
    "start_time": "2021-12-14T13:31:52.479Z"
   },
   {
    "duration": 11,
    "start_time": "2021-12-14T13:31:52.511Z"
   },
   {
    "duration": 4,
    "start_time": "2021-12-14T13:31:52.524Z"
   }
  ],
  "kernelspec": {
   "display_name": "Python 3",
   "language": "python",
   "name": "python3"
  },
  "language_info": {
   "codemirror_mode": {
    "name": "ipython",
    "version": 3
   },
   "file_extension": ".py",
   "mimetype": "text/x-python",
   "name": "python",
   "nbconvert_exporter": "python",
   "pygments_lexer": "ipython3",
   "version": "3.7.8"
  },
  "toc": {
   "base_numbering": 1,
   "nav_menu": {},
   "number_sections": true,
   "sideBar": true,
   "skip_h1_title": true,
   "title_cell": "Table of Contents",
   "title_sidebar": "Contents",
   "toc_cell": false,
   "toc_position": {},
   "toc_section_display": true,
   "toc_window_display": false
  }
 },
 "nbformat": 4,
 "nbformat_minor": 2
}
